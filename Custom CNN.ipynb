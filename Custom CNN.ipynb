{
 "cells": [
  {
   "cell_type": "code",
   "execution_count": 22,
   "id": "9ccfaf8c",
   "metadata": {},
   "outputs": [],
   "source": [
    "import os\n",
    "import keras \n",
    "from keras.models import Sequential\n",
    "from keras.layers import Conv2D, MaxPooling2D, Flatten, Dense, Dropout, BatchNormalization\n",
    "from PIL import Image\n",
    "import numpy as np\n",
    "import pandas as pd\n",
    "import matplotlib.pyplot as plt\n",
    "plt.style.use('dark_background')\n",
    "from sklearn.model_selection import train_test_split\n",
    "from sklearn.preprocessing import OneHotEncoder"
   ]
  },
  {
   "cell_type": "code",
   "execution_count": 23,
   "id": "32eb77b6",
   "metadata": {},
   "outputs": [
    {
     "data": {
      "text/plain": [
       "OneHotEncoder()"
      ]
     },
     "execution_count": 23,
     "metadata": {},
     "output_type": "execute_result"
    }
   ],
   "source": [
    "encoder=OneHotEncoder()\n",
    "encoder.fit([[0],[1]])"
   ]
  },
  {
   "cell_type": "code",
   "execution_count": 24,
   "id": "10282e2a",
   "metadata": {},
   "outputs": [],
   "source": [
    "data=[]\n",
    "paths=[]\n",
    "results=[]\n",
    "\n",
    "for r,d,f in os.walk(r'C:\\Users\\91902\\Desktop\\keras\\DMproject\\brain_tumor_dataset1\\yes'):\n",
    "    for file in f:\n",
    "        paths.append(os.path.join(r,file))\n",
    "for path in paths:\n",
    "    img=Image.open(path)\n",
    "    img=img.resize((128,128))\n",
    "    img=np.array(img)\n",
    "    if(img.shape==(128,128,3)):\n",
    "        data.append(np.array(img))\n",
    "        results.append(encoder.transform([[0]]).toarray())"
   ]
  },
  {
   "cell_type": "code",
   "execution_count": 25,
   "id": "7dd58bdd",
   "metadata": {},
   "outputs": [
    {
     "data": {
      "text/plain": [
       "138"
      ]
     },
     "execution_count": 25,
     "metadata": {},
     "output_type": "execute_result"
    }
   ],
   "source": [
    "len(results)"
   ]
  },
  {
   "cell_type": "code",
   "execution_count": 26,
   "id": "9684de7c",
   "metadata": {},
   "outputs": [
    {
     "data": {
      "text/plain": [
       "138"
      ]
     },
     "execution_count": 26,
     "metadata": {},
     "output_type": "execute_result"
    }
   ],
   "source": [
    "len(data)"
   ]
  },
  {
   "cell_type": "code",
   "execution_count": 27,
   "id": "6a825435",
   "metadata": {},
   "outputs": [],
   "source": [
    "paths = []\n",
    "for r, d, f in os.walk(r\"C:\\Users\\91902\\Desktop\\keras\\DMproject\\brain_tumor_dataset1\\no\"):\n",
    "    for file in f:\n",
    "            paths.append(os.path.join(r, file))\n",
    "\n",
    "for path in paths:\n",
    "    img = Image.open(path)\n",
    "    img = img.resize((128,128))\n",
    "    img = np.array(img)\n",
    "    if(img.shape == (128,128,3)):\n",
    "        data.append(np.array(img))\n",
    "        results.append(encoder.transform([[1]]).toarray())"
   ]
  },
  {
   "cell_type": "code",
   "execution_count": 28,
   "id": "6ebdab78",
   "metadata": {},
   "outputs": [
    {
     "data": {
      "text/plain": [
       "257"
      ]
     },
     "execution_count": 28,
     "metadata": {},
     "output_type": "execute_result"
    }
   ],
   "source": [
    "len(results)"
   ]
  },
  {
   "cell_type": "code",
   "execution_count": 29,
   "id": "42eafe7a",
   "metadata": {},
   "outputs": [
    {
     "data": {
      "text/plain": [
       "(257, 128, 128, 3)"
      ]
     },
     "execution_count": 29,
     "metadata": {},
     "output_type": "execute_result"
    }
   ],
   "source": [
    "data=np.array(data)\n",
    "data.shape"
   ]
  },
  {
   "cell_type": "code",
   "execution_count": 30,
   "id": "bedeabd3",
   "metadata": {},
   "outputs": [
    {
     "data": {
      "text/plain": [
       "(257, 1, 2)"
      ]
     },
     "execution_count": 30,
     "metadata": {},
     "output_type": "execute_result"
    }
   ],
   "source": [
    "results=np.array(results)\n",
    "results.shape"
   ]
  },
  {
   "cell_type": "code",
   "execution_count": 31,
   "id": "7f592784",
   "metadata": {},
   "outputs": [
    {
     "data": {
      "text/plain": [
       "array([[1., 0.]])"
      ]
     },
     "execution_count": 31,
     "metadata": {},
     "output_type": "execute_result"
    }
   ],
   "source": [
    "results[0]"
   ]
  },
  {
   "cell_type": "code",
   "execution_count": 32,
   "id": "faeb7076",
   "metadata": {},
   "outputs": [],
   "source": [
    "results=results.reshape(257,2)"
   ]
  },
  {
   "cell_type": "code",
   "execution_count": 39,
   "id": "564bf8f8",
   "metadata": {},
   "outputs": [],
   "source": [
    "x_train,x_test,y_train,y_test=train_test_split(data,results,test_size=0.2,shuffle=True)"
   ]
  },
  {
   "cell_type": "code",
   "execution_count": 40,
   "id": "4282f532",
   "metadata": {},
   "outputs": [
    {
     "data": {
      "text/plain": [
       "(205, 128, 128, 3)"
      ]
     },
     "execution_count": 40,
     "metadata": {},
     "output_type": "execute_result"
    }
   ],
   "source": [
    "x_train.shape"
   ]
  },
  {
   "cell_type": "code",
   "execution_count": 41,
   "id": "b1c1c98e",
   "metadata": {},
   "outputs": [
    {
     "data": {
      "text/plain": [
       "(205, 2)"
      ]
     },
     "execution_count": 41,
     "metadata": {},
     "output_type": "execute_result"
    }
   ],
   "source": [
    "y_train.shape"
   ]
  },
  {
   "cell_type": "code",
   "execution_count": 42,
   "id": "db5c8ab3",
   "metadata": {},
   "outputs": [
    {
     "name": "stdout",
     "output_type": "stream",
     "text": [
      "Model: \"sequential_1\"\n",
      "_________________________________________________________________\n",
      "Layer (type)                 Output Shape              Param #   \n",
      "=================================================================\n",
      "conv2d_4 (Conv2D)            (None, 128, 128, 32)      416       \n",
      "_________________________________________________________________\n",
      "conv2d_5 (Conv2D)            (None, 128, 128, 32)      4128      \n",
      "_________________________________________________________________\n",
      "batch_normalization_2 (Batch (None, 128, 128, 32)      128       \n",
      "_________________________________________________________________\n",
      "max_pooling2d_2 (MaxPooling2 (None, 64, 64, 32)        0         \n",
      "_________________________________________________________________\n",
      "dropout_3 (Dropout)          (None, 64, 64, 32)        0         \n",
      "_________________________________________________________________\n",
      "conv2d_6 (Conv2D)            (None, 64, 64, 64)        8256      \n",
      "_________________________________________________________________\n",
      "conv2d_7 (Conv2D)            (None, 64, 64, 64)        16448     \n",
      "_________________________________________________________________\n",
      "batch_normalization_3 (Batch (None, 64, 64, 64)        256       \n",
      "_________________________________________________________________\n",
      "max_pooling2d_3 (MaxPooling2 (None, 32, 32, 64)        0         \n",
      "_________________________________________________________________\n",
      "dropout_4 (Dropout)          (None, 32, 32, 64)        0         \n",
      "_________________________________________________________________\n",
      "flatten_1 (Flatten)          (None, 65536)             0         \n",
      "_________________________________________________________________\n",
      "dense_2 (Dense)              (None, 512)               33554944  \n",
      "_________________________________________________________________\n",
      "dropout_5 (Dropout)          (None, 512)               0         \n",
      "_________________________________________________________________\n",
      "dense_3 (Dense)              (None, 2)                 1026      \n",
      "=================================================================\n",
      "Total params: 33,585,602\n",
      "Trainable params: 33,585,410\n",
      "Non-trainable params: 192\n",
      "_________________________________________________________________\n",
      "None\n"
     ]
    }
   ],
   "source": [
    "model = keras.Sequential()\n",
    "\n",
    "model.add(Conv2D(32, kernel_size=(2, 2), input_shape=(128, 128, 3), padding = 'Same'))\n",
    "model.add(Conv2D(32, kernel_size=(2, 2),  activation ='relu', padding = 'Same'))\n",
    "\n",
    "\n",
    "model.add(BatchNormalization())\n",
    "model.add(MaxPooling2D(pool_size=(2, 2)))\n",
    "model.add(Dropout(0.25))\n",
    "\n",
    "model.add(Conv2D(64, kernel_size = (2,2), activation ='relu', padding = 'Same'))\n",
    "model.add(Conv2D(64, kernel_size = (2,2), activation ='relu', padding = 'Same'))\n",
    "\n",
    "model.add(BatchNormalization())\n",
    "model.add(MaxPooling2D(pool_size=(2,2), strides=(2,2)))\n",
    "model.add(Dropout(0.25))\n",
    "\n",
    "model.add(Flatten())\n",
    "\n",
    "model.add(Dense(512, activation='relu'))\n",
    "model.add(Dropout(0.5))\n",
    "model.add(Dense(2, activation='softmax'))\n",
    "\n",
    "model.compile(loss = \"categorical_crossentropy\", optimizer='Adamax')\n",
    "print(model.summary())"
   ]
  },
  {
   "cell_type": "code",
   "execution_count": 43,
   "id": "f54ddd0b",
   "metadata": {},
   "outputs": [
    {
     "name": "stdout",
     "output_type": "stream",
     "text": [
      "Epoch 1/30\n",
      "7/7 [==============================] - 8s 1s/step - loss: 16.0249 - val_loss: 14.3153\n",
      "Epoch 2/30\n",
      "7/7 [==============================] - 8s 1s/step - loss: 8.7559 - val_loss: 6.1647\n",
      "Epoch 3/30\n",
      "7/7 [==============================] - 8s 1s/step - loss: 1.9544 - val_loss: 4.4380\n",
      "Epoch 4/30\n",
      "7/7 [==============================] - 8s 1s/step - loss: 1.2540 - val_loss: 4.3486\n",
      "Epoch 5/30\n",
      "7/7 [==============================] - 8s 1s/step - loss: 0.8515 - val_loss: 8.6162\n",
      "Epoch 6/30\n",
      "7/7 [==============================] - 7s 1s/step - loss: 1.0135 - val_loss: 3.2192\n",
      "Epoch 7/30\n",
      "7/7 [==============================] - 8s 1s/step - loss: 0.0984 - val_loss: 3.2534\n",
      "Epoch 8/30\n",
      "7/7 [==============================] - 8s 1s/step - loss: 0.0403 - val_loss: 3.2438\n",
      "Epoch 9/30\n",
      "7/7 [==============================] - 8s 1s/step - loss: 0.2787 - val_loss: 3.0138\n",
      "Epoch 10/30\n",
      "7/7 [==============================] - 8s 1s/step - loss: 0.0750 - val_loss: 2.7886\n",
      "Epoch 11/30\n",
      "7/7 [==============================] - 8s 1s/step - loss: 0.0840 - val_loss: 2.4196\n",
      "Epoch 12/30\n",
      "7/7 [==============================] - 8s 1s/step - loss: 0.1243 - val_loss: 2.5914\n",
      "Epoch 13/30\n",
      "7/7 [==============================] - 7s 1s/step - loss: 0.0916 - val_loss: 3.6452\n",
      "Epoch 14/30\n",
      "7/7 [==============================] - 8s 1s/step - loss: 0.0581 - val_loss: 4.2818\n",
      "Epoch 15/30\n",
      "7/7 [==============================] - 8s 1s/step - loss: 0.0184 - val_loss: 4.1951\n",
      "Epoch 16/30\n",
      "7/7 [==============================] - 8s 1s/step - loss: 2.0773e-04 - val_loss: 3.9524\n",
      "Epoch 17/30\n",
      "7/7 [==============================] - 7s 1s/step - loss: 0.1410 - val_loss: 4.1603\n",
      "Epoch 18/30\n",
      "7/7 [==============================] - 8s 1s/step - loss: 0.0149 - val_loss: 4.4668\n",
      "Epoch 19/30\n",
      "7/7 [==============================] - 8s 1s/step - loss: 1.8686e-04 - val_loss: 4.7078\n",
      "Epoch 20/30\n",
      "7/7 [==============================] - 8s 1s/step - loss: 2.0524e-04 - val_loss: 4.8555\n",
      "Epoch 21/30\n",
      "7/7 [==============================] - 8s 1s/step - loss: 1.3923e-04 - val_loss: 4.9549\n",
      "Epoch 22/30\n",
      "7/7 [==============================] - 8s 1s/step - loss: 0.1741 - val_loss: 4.7999\n",
      "Epoch 23/30\n",
      "7/7 [==============================] - 8s 1s/step - loss: 5.8052e-05 - val_loss: 4.8501\n",
      "Epoch 24/30\n",
      "7/7 [==============================] - 8s 1s/step - loss: 1.3018e-04 - val_loss: 4.9148\n",
      "Epoch 25/30\n",
      "7/7 [==============================] - 8s 1s/step - loss: 0.0708 - val_loss: 5.1599\n",
      "Epoch 26/30\n",
      "7/7 [==============================] - 8s 1s/step - loss: 0.0058 - val_loss: 5.3838\n",
      "Epoch 27/30\n",
      "7/7 [==============================] - 8s 1s/step - loss: 0.0415 - val_loss: 5.2798\n",
      "Epoch 28/30\n",
      "7/7 [==============================] - 8s 1s/step - loss: 1.0867e-05 - val_loss: 5.0432\n",
      "Epoch 29/30\n",
      "7/7 [==============================] - 8s 1s/step - loss: 1.7445e-09 - val_loss: 4.9663\n",
      "Epoch 30/30\n",
      "7/7 [==============================] - 8s 1s/step - loss: 3.1315e-04 - val_loss: 4.9808\n"
     ]
    }
   ],
   "source": [
    "history=model.fit(x_train,y_train,epochs=30,verbose=1,validation_data=(x_test,y_test))"
   ]
  },
  {
   "cell_type": "code",
   "execution_count": 44,
   "id": "4f6a311a",
   "metadata": {},
   "outputs": [
    {
     "data": {
      "image/png": "[encoded data removed]",
      "text/plain": [
       "<Figure size 432x288 with 1 Axes>"
      ]
     },
     "metadata": {},
     "output_type": "display_data"
    }
   ],
   "source": [
    "plt.plot(history.history['loss'])\n",
    "plt.plot(history.history['val_loss'])\n",
    "plt.title('Model Loss')\n",
    "plt.ylabel('Loss')\n",
    "plt.xlabel('Epoch')\n",
    "plt.legend(['Test', 'Validation'], loc='upper right')\n",
    "plt.show()"
   ]
  },
  {
   "cell_type": "code",
   "execution_count": 48,
   "id": "1cae721b",
   "metadata": {},
   "outputs": [],
   "source": [
    "def names(number):\n",
    "    if number==0:\n",
    "        return 'a Tumor'\n",
    "    else:\n",
    "        return 'not a tumor'"
   ]
  },
  {
   "cell_type": "code",
   "execution_count": 49,
   "id": "46586892",
   "metadata": {},
   "outputs": [
    {
     "name": "stdout",
     "output_type": "stream",
     "text": [
      "100.0% Confidence This Is a Tumor\n"
     ]
    },
    {
     "data": {
      "image/png": "[encoded data removed]",
      "text/plain": [
       "<Figure size 432x288 with 1 Axes>"
      ]
     },
     "metadata": {},
     "output_type": "display_data"
    }
   ],
   "source": [
    "from matplotlib.pyplot import imshow\n",
    "img = Image.open(r\"C:\\Users\\91902\\Desktop\\keras\\DMproject\\brain_tumor_dataset1\\yes\\Y100.jpg\")\n",
    "x = np.array(img.resize((128,128)))\n",
    "x = x.reshape(1,128,128,3)\n",
    "res = model.predict_on_batch(x)\n",
    "classification = np.where(res == np.amax(res))[1][0]\n",
    "imshow(img)\n",
    "print(str(res[0][classification]*100) + '% Confidence This Is ' + names(classification))"
   ]
  },
  {
   "cell_type": "code",
   "execution_count": 74,
   "id": "c6f687c7",
   "metadata": {},
   "outputs": [],
   "source": [
    "model.save('CNN_Brain_tumor1.h5')"
   ]
  },
  {
   "cell_type": "code",
   "execution_count": 73,
   "id": "1ad4d59e",
   "metadata": {},
   "outputs": [
    {
     "data": {
      "text/plain": [
       "array([[9.9999797e-01, 2.0604884e-06]], dtype=float32)"
      ]
     },
     "execution_count": 73,
     "metadata": {},
     "output_type": "execute_result"
    }
   ],
   "source": [
    "res"
   ]
  },
  {
   "cell_type": "code",
   "execution_count": null,
   "id": "d4462034",
   "metadata": {},
   "outputs": [],
   "source": []
  }
 ],
 "metadata": {
  "kernelspec": {
   "display_name": "Python 3 (ipykernel)",
   "language": "python",
   "name": "python3"
  },
  "language_info": {
   "codemirror_mode": {
    "name": "ipython",
    "version": 3
   },
   "file_extension": ".py",
   "mimetype": "text/x-python",
   "name": "python",
   "nbconvert_exporter": "python",
   "pygments_lexer": "ipython3",
   "version": "3.8.5"
  }
 },
 "nbformat": 4,
 "nbformat_minor": 5
}
